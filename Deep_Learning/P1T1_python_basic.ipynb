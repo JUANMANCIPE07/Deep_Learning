{
  "nbformat": 4,
  "nbformat_minor": 0,
  "metadata": {
    "colab": {
      "name": "P1T1_python_basic.ipynb",
      "provenance": []
    },
    "kernelspec": {
      "name": "python3",
      "display_name": "Python 3"
    },
    "language_info": {
      "name": "python"
    }
  },
  "cells": [
    {
      "cell_type": "markdown",
      "source": [
        "Descripción:\n",
        "\n",
        "---\n",
        "\n",
        "\n",
        "\n",
        "*   @Author: Juan Camilo Mancipe Cuevas\n",
        "*   @Date: 2022/02/12\n",
        "*   @Description: This notebook python show basic exercices phyton\n",
        "\n",
        "\n",
        "\n",
        "\n"
      ],
      "metadata": {
        "id": "gPmVPyFsymcx"
      }
    },
    {
      "cell_type": "markdown",
      "source": [
        "#Ejercicio 1: productos + IVA"
      ],
      "metadata": {
        "id": "uU6rZ6ng0NfZ"
      }
    },
    {
      "cell_type": "markdown",
      "source": [
        "#Ejercicios Básicos\n"
      ],
      "metadata": {
        "id": "U8Ok62-I0AV2"
      }
    },
    {
      "cell_type": "code",
      "execution_count": 6,
      "metadata": {
        "id": "HkNlrI7Dn-cG",
        "colab": {
          "base_uri": "https://localhost:8080/"
        },
        "outputId": "13ebf7bb-f016-4146-fc5c-b87cdcd0b626"
      },
      "outputs": [
        {
          "output_type": "stream",
          "name": "stdout",
          "text": [
            "input first product:1\n",
            "input second product:2\n",
            "input third product:3\n",
            "input fourth product:4\n",
            "input fifth product:5\n",
            "valor bruto: 15 \n",
            "IVA: 2.85 \n",
            "TOTAL: 17.85\n"
          ]
        }
      ],
      "source": [
        "prod1= int (input(\"input first product:\"))\n",
        "prod2= int (input(\"input second product:\"))\n",
        "prod3= int (input(\"input third product:\"))\n",
        "prod4= int (input(\"input fourth product:\"))\n",
        "prod5= int (input(\"input fifth product:\"))\n",
        "suma = (prod5+prod4+prod3+prod2+prod1)\n",
        "iva= suma*0.19\n",
        "total= suma+iva\n",
        "print(\"valor bruto:\",suma,\"\\nIVA:\",iva,\"\\nTOTAL:\",total)\n"
      ]
    },
    {
      "cell_type": "markdown",
      "source": [
        "#Versión python"
      ],
      "metadata": {
        "id": "OtNMMkfM4i7h"
      }
    },
    {
      "cell_type": "code",
      "source": [
        "prod1,prod2,prod3,prod4,prod5 =input(\"input 1°,2°,3°,4°,5° product with, separate\").split(\",\")\n",
        "suma = int(prod1) + int(prod2) + int(prod3) + int(prod4)+  int(prod5)\n",
        "print(\"Valor bruto: \" +str(suma) + \" \\nIva: \" + str(suma*0.19) +\" \\nTOTAL \" + str(suma+(suma*0.19)))"
      ],
      "metadata": {
        "colab": {
          "base_uri": "https://localhost:8080/"
        },
        "id": "kOX7sn8z44_o",
        "outputId": "d75c8115-5ae2-41e3-bf7d-41debd4807d4"
      },
      "execution_count": 1,
      "outputs": [
        {
          "output_type": "stream",
          "name": "stdout",
          "text": [
            "input 1°,2°,3°,4°,5° product with, separate2,3,4,5,6\n",
            "Valor bruto: 20 \n",
            "Iva: 3.8 \n",
            "TOTAL 23.8\n"
          ]
        }
      ]
    },
    {
      "cell_type": "markdown",
      "source": [
        "#Ejercicio 2 : números promedio"
      ],
      "metadata": {
        "id": "L0rM19y86t3G"
      }
    },
    {
      "cell_type": "code",
      "source": [
        "num1=int (input(\"ingrese el primer numero\"))\n",
        "num2=int (input(\"ingrese el segundo numero\"))\n",
        "num3=int (input(\"ingrese el tercer numero\"))\n",
        "promedio = (num1+num2+num3) / 3\n",
        "print(\"el promedio es:\", promedio)\n",
        "if num1<num2 and num1<num3:\n",
        "  print(\"el numero menor es:\",num1)\n",
        "elif num2<num1 and num2<num3:\n",
        "    print(\"el numero menor es:\",num2)\n",
        "else:\n",
        "    print(\"el numero menor es:\", num3)\n",
        "\n",
        "if num1>num2 and num1>num3:\n",
        "  print(\"el numero mayor es:\",num1)\n",
        "elif num2>num1 and num2>num3:\n",
        "    print(\"el numero mayor es:\",num2)\n",
        "else:\n",
        "    print(\"el numero mayor es:\", num3)\n",
        "\n",
        "\n",
        "\n",
        "\n"
      ],
      "metadata": {
        "colab": {
          "base_uri": "https://localhost:8080/"
        },
        "id": "9pYZSZ-r6oC_",
        "outputId": "79a9b0c0-0d45-47e8-fd06-bef887e86590"
      },
      "execution_count": null,
      "outputs": [
        {
          "output_type": "stream",
          "name": "stdout",
          "text": [
            "ingrese el primer numero5\n",
            "ingrese el segundo numero4\n",
            "ingrese el tercer numero3\n",
            "el promedio es: 4.0\n",
            "el numero mayor es: 3\n",
            "el numero menor es: 5\n"
          ]
        }
      ]
    },
    {
      "cell_type": "markdown",
      "source": [
        "#Versión python"
      ],
      "metadata": {
        "id": "eUpBlbih2s2d"
      }
    },
    {
      "cell_type": "code",
      "source": [
        "num1,num2,num3 = input(\"input 1°,2°,3° product with, separate: \").split(\",\")\n",
        "print(\"El mayor es: \" + str(max(int(num1),int(num2),int(num3)))+\"\\nEl menor es: \" + str(min(int(num1),int(num2),int(num3))))"
      ],
      "metadata": {
        "colab": {
          "base_uri": "https://localhost:8080/"
        },
        "id": "82oAHcx422tZ",
        "outputId": "a02e4b0c-5c58-47e0-b666-723aca719b37"
      },
      "execution_count": 12,
      "outputs": [
        {
          "output_type": "stream",
          "name": "stdout",
          "text": [
            "input 1°,2°,3° product with, separate: 1,2,3\n",
            "El mayor es: 3\n",
            "El menor es: 1\n"
          ]
        }
      ]
    }
  ]
}